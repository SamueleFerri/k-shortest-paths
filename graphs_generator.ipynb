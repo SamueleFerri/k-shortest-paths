{
 "cells": [
  {
   "cell_type": "markdown",
   "metadata": {},
   "source": [
    "# Graph generator"
   ]
  },
  {
   "cell_type": "code",
   "execution_count": 2,
   "metadata": {},
   "outputs": [],
   "source": [
    "import networkx as nx\n",
    "import csv\n",
    "import os\n",
    "import random\n",
    "\n",
    "# Inizializza un contatore\n",
    "file_counter = 0"
   ]
  },
  {
   "cell_type": "markdown",
   "metadata": {},
   "source": [
    "##### In breve, questo codice genera un grafo casuale di Erdos-Renyi, garantisce che ogni nodo abbia almeno un collegamento uscente, assegna capacità casuale ai nodi e quindi salva le informazioni sul grafo in un file CSV nella cartella \"graphs\". Il nome del file contiene anche un contatore incrementato per distinguere i diversi file generati in esecuzioni successive."
   ]
  },
  {
   "cell_type": "code",
   "execution_count": 3,
   "metadata": {},
   "outputs": [],
   "source": [
    "# Creare un grafo casuale (nel seguente esempio, un grafo di Erdos-Renyi)\n",
    "num_nodes = 10  # Numero di nodi nel grafo\n",
    "probability = 0.3  # Probabilità di connessione tra nodi\n",
    "\n",
    "G = nx.erdos_renyi_graph(num_nodes, probability, directed=True)\n",
    "\n",
    "# Assicurarsi che ogni nodo abbia almeno un collegamento\n",
    "for node in G.nodes():\n",
    "    if G.out_degree(node) == 0:\n",
    "        # Trova un nodo diverso da collegare\n",
    "        target_node = node\n",
    "        while target_node == node or G.has_edge(node, target_node):\n",
    "            target_node = random.choice(list(G.nodes()))\n",
    "\n",
    "        G.add_edge(node, target_node)\n",
    "\n",
    "# Incrementare il contatore ad ogni esecuzione\n",
    "file_counter += 1\n",
    "\n",
    "# Creare una cartella per i file se non esiste già\n",
    "output_folder_graphs = 'graphs'\n",
    "#output_folder_nodes = 'nodes'\n",
    "\n",
    "if not os.path.exists(output_folder_graphs):\n",
    "    os.makedirs(output_folder_graphs)\n",
    "    \n",
    "#f not os.path.exists(output_folder_nodes):\n",
    "#    os.makedirs(output_folder_nodes)\n",
    "\n",
    "# Creare nomi di file basati sul contatore\n",
    "#nodes_filename = os.path.join(output_folder_nodes, f'grafo_nodi_{file_counter}.csv')\n",
    "edges_filename = os.path.join(output_folder_graphs, f'grafo_archi_{file_counter}.csv')\n",
    "\n",
    "# Aggiungo un attributo \"capacità\" casuale a ciascun nodo\n",
    "for node in G.nodes():\n",
    "    G.nodes[node]['capacità'] = random.randint(1, 10)  # Imposta una capacità casuale da 1 a 10 (puoi personalizzare l'intervallo)\n",
    "\n",
    "# Creare un file CSV e scrivere gli archi diretti e le capacità\n",
    "with open(edges_filename, 'w', newline='') as csvfile:\n",
    "    writer = csv.writer(csvfile)\n",
    "    writer.writerow(['Nodo1', 'Nodo2', 'Capacità'])\n",
    "    for edge in G.edges():\n",
    "        writer.writerow([edge[0], edge[1], G.nodes[edge[0]]['capacità']])\n"
   ]
  },
  {
   "cell_type": "code",
   "execution_count": null,
   "metadata": {},
   "outputs": [],
   "source": []
  }
 ],
 "metadata": {
  "kernelspec": {
   "display_name": "Python 3",
   "language": "python",
   "name": "python3"
  },
  "language_info": {
   "codemirror_mode": {
    "name": "ipython",
    "version": 3
   },
   "file_extension": ".py",
   "mimetype": "text/x-python",
   "name": "python",
   "nbconvert_exporter": "python",
   "pygments_lexer": "ipython3",
   "version": "3.10.2"
  }
 },
 "nbformat": 4,
 "nbformat_minor": 2
}
