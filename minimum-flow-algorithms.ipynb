{
 "cells": [
  {
   "cell_type": "markdown",
   "metadata": {},
   "source": [
    "# Minumum Flow Algorith using Cycle Cancelling and SSP"
   ]
  },
  {
   "cell_type": "markdown",
   "metadata": {},
   "source": [
    "#### Andremo a vedere un paio di algoritmi per il calcolo del flusso minimo, in particolare Cycle Cancelling e SSP\n"
   ]
  },
  {
   "cell_type": "code",
   "execution_count": 4,
   "metadata": {},
   "outputs": [],
   "source": [
    "import networkx as nx\n",
    "import matplotlib.pyplot as plt\n",
    "import pandas as pd\n",
    "from ipywidgets import interact, Dropdown, IntText, Checkbox\n",
    "import csv\n",
    "import os\n",
    "import sys\n",
    "import heapq"
   ]
  },
  {
   "cell_type": "markdown",
   "metadata": {},
   "source": [
    "#### Qui sotto troviamo un pezzo di codice che ci permetterà di visualizzare a schermo i vari grafi precedenteme creati tramite tramite graphs_generator"
   ]
  },
  {
   "cell_type": "code",
   "execution_count": 5,
   "metadata": {},
   "outputs": [
    {
     "data": {
      "application/vnd.jupyter.widget-view+json": {
       "model_id": "0e956685ec224984a7ea30baa888feba",
       "version_major": 2,
       "version_minor": 0
      },
      "text/plain": [
       "interactive(children=(Dropdown(description='Graph:', options=('./graphs/grafo_archi_7.csv', './graphs/grafo_ar…"
      ]
     },
     "metadata": {},
     "output_type": "display_data"
    }
   ],
   "source": [
    "file = os.listdir(\"./graphs/\")\n",
    "file_list = [\"./graphs/\" + f for f in file]\n",
    "_ = file_list.pop(0)  # Elimino il primo file che trova (file autogenerato che non fa parte dei grafi)\n",
    "\n",
    "def fromPathToGraph(path: list):\n",
    "    G = nx.DiGraph()  # Utilizzo DiGraph per grafo orientato\n",
    "    for index in range(0, len(path) - 1):\n",
    "        G.add_edge(path[index], path[index + 1])\n",
    "    return G\n",
    "\n",
    "@interact(file=Dropdown(options=file_list, description='Graph:'),\n",
    "          show=Checkbox(description=\"Plot the graph\"))\n",
    "def selectGraph(file, show): \n",
    "    df = pd.read_csv(file, names=[\"Node1\", \"Node2\", \"Capacità\"])\n",
    "    df = df.iloc[1:]  # Elimina la prima riga\n",
    "    G = nx.DiGraph()  # Utilizzo DiGraph per grafo orientato\n",
    "    Graphtype = nx.DiGraph() \n",
    "    G = nx.from_pandas_edgelist(df, source=\"Node1\", target=\"Node2\", edge_attr='Capacità', create_using=Graphtype)\n",
    "    if show:\n",
    "        pos = nx.spring_layout(G)  # Calcolo la posizione dei nodi\n",
    "        edge_labels = {(u, v): d[\"Capacità\"] for u, v, d in G.edges(data=True)}  # Creo un dizionario di etichette degli archi\n",
    "        \n",
    "        nx.draw(G, pos, with_labels=True, node_size=700, node_color=\"skyblue\", font_size=10)\n",
    "        nx.draw_networkx_edge_labels(G, pos, edge_labels=edge_labels, font_size=8)  # Aggiungo etichette degli archi\n"
   ]
  },
  {
   "cell_type": "markdown",
   "metadata": {},
   "source": [
    "## Cycle cancelling\n",
    "\n",
    "##### L'algortimo \"cycle cancelling\" viene utilizzato epr calcolare il flusso minimo in un grafo. Il suo obbiettivo è determinare la quantità minima di flusso che può essere inviata da una sorgente ad una destinazione attraverso un grafo ponderato, rispettando le capacità degli archi e soddisfacendo i vincoli di conservazione del flusso nei nodi intermedi.\n",
    "##### Il processo dell'algoritmo coinvolge la ricerca di cicli negativi nel grafo residuo, dove il grafo residuo rappresenta le capacità residue degli archi dopo l'invio del flusso corrente. Una volta individuato un ciclo di negativo, il flusso viene aumentato lungo gli archi all'interno del ciclo in modo da ridurre la negatività. Questo processo continua fino a quando non è più possibile trovare cicli negativi nel grafo residuo.\n",
    "##### L'algoritmo di \"cycle cancelling\" è una delle tecniche classiche per risolvere il problema del flusso minimo e garantisce la convergenza a una soluzione ottimale. È particolarmente utile quando le capacità degli archi sono variabili o quando si desidera trovare il flusso minimo in un grafo di grandi dimensioni.\n"
   ]
  },
  {
   "cell_type": "markdown",
   "metadata": {},
   "source": [
    "#### Qui sotto troviamo il codice che ci permetterà di trovare il flusso di costo minimo partendo da un grafo a nostra scelta. Andremo ad ultilizzare l'algortmo del cycle cancelling offerto da NetworkX."
   ]
  },
  {
   "cell_type": "code",
   "execution_count": null,
   "metadata": {},
   "outputs": [],
   "source": [
    "# Chiedo all'utente il nome del file CSV contenente il grafo\n",
    "file_name = input(\"Inserisci il nome del file CSV contenente il grafo: \")\n",
    "\n",
    "output_folder_graphs = 'graphs'\n",
    "graph_file_name = os.path.join(output_folder_graphs, f'grafo_archi_{file_name}.csv')\n",
    "\n",
    "# Carico il grafo da un file CSV\n",
    "G = nx.DiGraph()  # Grafo diretto\n",
    "with open(graph_file_name, 'r') as csvfile:\n",
    "    reader = csv.DictReader(csvfile)\n",
    "    for row in reader:\n",
    "        source = int(row['Nodo1'])\n",
    "        target = int(row['Nodo2'])\n",
    "        capacity = int(row['Capacità'])\n",
    "        G.add_edge(source, target, capacity=capacity)\n",
    "\n",
    "# Calcolo il flusso minimo utilizzando l'algoritmo del ciclo di cancellazione\n",
    "flow_value, flow_dict = nx.maximum_flow(G, 0, 9)  # Inserisco i nodi sorgente e destinazione desiderati\n",
    "\n",
    "# Restituisco il risultato del flusso minimo\n",
    "print(f'Valore del flusso minimo: {flow_value}')\n",
    "print('Flusso minimo:')\n",
    "for source_node, target_node in G.edges():\n",
    "    print(f'Nodo {source_node} -> Nodo {target_node}: {flow_dict[source_node][target_node]}')\n"
   ]
  },
  {
   "cell_type": "markdown",
   "metadata": {},
   "source": [
    "##### Qui sotto troviamo una piccola implemetazione di come potrebbe funzionare la funzione già più completa che si trovara in NetworkX. "
   ]
  },
  {
   "cell_type": "code",
   "execution_count": null,
   "metadata": {},
   "outputs": [],
   "source": [
    "def cycle_canceling(graph, source, sink):\n",
    "    # Inizializzo il flusso a zero\n",
    "    flow_value, flow_dict = nx.maximum_flow(graph, source, sink)\n",
    "    \n",
    "    # Calcolo il costo residuo (differenza tra costi degli archi e flusso)\n",
    "    residual_graph = graph.copy()\n",
    "    for u, v, attr in residual_graph.edges(data=True):\n",
    "        attr['capacity'] -= flow_dict[u][v]\n",
    "        attr['cost'] = -attr['cost']\n",
    "    \n",
    "    # Ripeto fino a quando ci sono archi con capacità residua positiva e costo negativo\n",
    "    while True:\n",
    "        # Trovo un arco con capacità residua positiva e costo negativo\n",
    "        edge_to_update = None\n",
    "        for u, v, attr in residual_graph.edges(data=True):\n",
    "            if attr['capacity'] > 0 and attr['cost'] < 0:\n",
    "                edge_to_update = (u, v)\n",
    "                break\n",
    "        \n",
    "        # Se non ci sono più archi da aggiornare, esco dal ciclo\n",
    "        if edge_to_update is None:\n",
    "            break\n",
    "        \n",
    "        # Trovo un cammino dal nodo sorgente al nodo destinazione nel grafo residuo\n",
    "        try:\n",
    "            path = nx.shortest_path(residual_graph, source, sink, weight='cost')\n",
    "        except nx.NetworkXNoPath:\n",
    "            break\n",
    "        \n",
    "        # Calcolo la capacità residua minima lungo il cammino\n",
    "        min_capacity = min(residual_graph[u][v]['capacity'] for u, v in zip(path, path[1:]))\n",
    "        \n",
    "        # Aggiorno il flusso lungo il cammino\n",
    "        for u, v in zip(path, path[1:]):\n",
    "            residual_graph[u][v]['capacity'] -= min_capacity\n",
    "            residual_graph[v][u]['capacity'] += min_capacity\n",
    "        \n",
    "        # Calcolo il costo residuo\n",
    "        for u, v, attr in residual_graph.edges(data=True):\n",
    "            attr['cost'] = -attr['cost']\n",
    "        \n",
    "        # Aggiorno il flusso massimo\n",
    "        flow_value += min_capacity\n",
    "    \n",
    "    return flow_value, flow_dict\n",
    "\n",
    "# Esempio di utilizzo\n",
    "graph = nx.DiGraph()\n",
    "\n",
    "# Aggiungere nodi e archi con capacità e costi\n",
    "# ...\n",
    "\n",
    "source = 0\n",
    "sink = 9\n",
    "\n",
    "flow_value, flow_dict = cycle_canceling(graph, source, sink)\n",
    "print(f'Valore del flusso minimo: {flow_value}')\n",
    "print('Flusso minimo:')\n",
    "for u, v in graph.edges():\n",
    "    print(f'Nodo {u} -> Nodo {v}: {flow_dict[u][v]}')\n"
   ]
  },
  {
   "cell_type": "markdown",
   "metadata": {},
   "source": [
    "# Successive Shortest Path (SSP) \n",
    "\n",
    "##### SSP è un algoritmo utilizzato per risolvere il problema del flusso minimo in un grafo di flusso. L'obiettivo del problema del flusso minimo è trovare la quantità minima di flusso che può essere inviata da una sorgente a una destinazione in un grafo diretto ponderato, rispettando le capacità degli archi e minimizzando il costo totale del flusso. L'algoritmo SSP è una variante dell'algoritmo di Ford-Fulkerson ed è particolarmente adatto per risolvere problemi di flusso minimo in cui i costi sugli archi possono essere positivi o negativi.\n",
    "\n",
    "##### Esempio del funzionamento:\n",
    "\n",
    "##### 1. Inizia con un flusso iniziale nullo nel grafo di flusso.\n",
    "\n",
    "##### 2. Finché è possibile trovare un cammino dalla sorgente alla destinazione nel grafo residuo (il grafo originale meno il flusso corrente), continua a iterare.\n",
    "\n",
    "##### 3. Per trovare il cammino più breve (in termini di costo) dal nodo sorgente al nodo destinazione, l'algoritmo utilizza un algoritmo di ricerca del cammino più breve, come l'algoritmo di Dijkstra o l'algoritmo di Bellman-Ford. La metrica del cammino più breve è il costo totale dei costi sugli archi.\n",
    "\n",
    "##### 4. Una volta trovato il cammino più breve nel grafo residuo, il flusso viene aumentato lungo questo cammino, riducendo la capacità degli archi in base alla quantità di flusso aggiunto.\n",
    "\n",
    "##### 5. Si continua questo processo fino a quando non è più possibile trovare un cammino dalla sorgente alla destinazione nel grafo residuo. A questo punto, si ha una soluzione ottimale per il problema del flusso minimo."
   ]
  },
  {
   "cell_type": "markdown",
   "metadata": {},
   "source": [
    "##### Qui sotto troviamo il codice che ci permetterà di calcolare il flusso minimo di un grafo partenedo da uno a nostra scelta. Utlizzeremo la funzione SSP implementata da NetworkX."
   ]
  },
  {
   "cell_type": "code",
   "execution_count": 12,
   "metadata": {},
   "outputs": [
    {
     "name": "stdout",
     "output_type": "stream",
     "text": [
      "Valore del flusso minimo: 0\n",
      "Flusso minimo:\n",
      "Nodo 0 -> Nodo 1: 0\n",
      "Nodo 0 -> Nodo 2: 0\n",
      "Nodo 0 -> Nodo 8: 0\n",
      "Nodo 1 -> Nodo 5: 1\n",
      "Nodo 1 -> Nodo 6: 2\n",
      "Nodo 1 -> Nodo 8: 0\n",
      "Nodo 1 -> Nodo 9: 2\n",
      "Nodo 2 -> Nodo 1: 3\n",
      "Nodo 2 -> Nodo 3: 3\n",
      "Nodo 2 -> Nodo 5: 2\n",
      "Nodo 2 -> Nodo 8: 0\n",
      "Nodo 2 -> Nodo 9: 2\n",
      "Nodo 8 -> Nodo 1: 2\n",
      "Nodo 8 -> Nodo 4: 2\n",
      "Nodo 8 -> Nodo 6: 2\n",
      "Nodo 8 -> Nodo 7: 2\n",
      "Nodo 5 -> Nodo 8: 3\n",
      "Nodo 6 -> Nodo 2: 4\n",
      "Nodo 6 -> Nodo 3: 3\n",
      "Nodo 6 -> Nodo 7: 4\n",
      "Nodo 9 -> Nodo 3: 5\n",
      "Nodo 9 -> Nodo 6: 5\n",
      "Nodo 3 -> Nodo 2: 6\n",
      "Nodo 3 -> Nodo 8: 5\n",
      "Nodo 4 -> Nodo 2: 0\n",
      "Nodo 4 -> Nodo 5: 0\n",
      "Nodo 4 -> Nodo 6: 2\n",
      "Nodo 4 -> Nodo 9: 0\n",
      "Nodo 7 -> Nodo 9: 6\n"
     ]
    }
   ],
   "source": [
    "# Chiedo all'utente il nome del file CSV contenente il grafo\n",
    "file_name = input(\"Inserisci il nome del file CSV contenente il grafo: \")\n",
    "\n",
    "output_folder_graphs = 'graphs'\n",
    "graph_file_name = os.path.join(output_folder_graphs, f'grafo_archi_{file_name}.csv')\n",
    "\n",
    "# Carico il grafo da un file CSV\n",
    "G = nx.DiGraph()  # Grafo diretto\n",
    "with open(graph_file_name, 'r') as csvfile:\n",
    "    reader = csv.DictReader(csvfile)\n",
    "    for row in reader:\n",
    "        source = int(row['Nodo1'])\n",
    "        target = int(row['Nodo2'])\n",
    "        capacity = int(row['Capacità'])\n",
    "        G.add_edge(source, target, capacity=capacity)\n",
    "\n",
    "# Adatto il grafo in modo che tutti i costi siano positivi\n",
    "for u, v, attr in G.edges(data=True):\n",
    "    attr['weight'] = -attr['capacity']\n",
    "\n",
    "# Calcolo il flusso minimo utilizzando l'algoritmo di flusso massimo (Successive Shortest Path)\n",
    "source = 0  # Nodo sorgente\n",
    "target = 9  # Nodo destinazione\n",
    "\n",
    "flow_dict = nx.min_cost_flow(G)\n",
    "\n",
    "# Ottengo il valore del flusso minimo sommando i flussi uscenti dal nodo sorgente (0)\n",
    "flow_value = sum(flow_dict[source][neighbor] for neighbor in G.neighbors(source))\n",
    "\n",
    "# Restituisco il risultato del flusso minimo\n",
    "print(f'Valore del flusso minimo: {flow_value}')\n",
    "print('Flusso minimo:')\n",
    "for u, v in G.edges():\n",
    "    print(f'Nodo {u} -> Nodo {v}: {flow_dict[u][v]}')"
   ]
  },
  {
   "cell_type": "markdown",
   "metadata": {},
   "source": [
    "\n",
    "##### Qui sotto troviamo una piccola implemetazione di come potrebbe funzionare la funzione già più completa che si trovara in NetworkX. "
   ]
  },
  {
   "cell_type": "code",
   "execution_count": null,
   "metadata": {},
   "outputs": [],
   "source": [
    "class Edge:\n",
    "    def __init__(self, start, end, capacity, cost):\n",
    "        self.start = start\n",
    "        self.end = end\n",
    "        self.capacity = capacity\n",
    "        self.cost = cost\n",
    "        self.flow = 0\n",
    "\n",
    "def add_edge(graph, start, end, capacity, cost):\n",
    "    # Aggiungo un arco al grafo, considerando anche l'arco inverso con capacità 0 e costo negativo\n",
    "    forward_edge = Edge(start, end, capacity, cost)\n",
    "    backward_edge = Edge(end, start, 0, -cost)  # Arco inverso con capacità 0 e costo negativo\n",
    "    graph[start].append(forward_edge)\n",
    "    graph[end].append(backward_edge)\n",
    "\n",
    "def successive_shortest_path(graph, source, sink):\n",
    "    n = len(graph)\n",
    "    INF = sys.maxsize\n",
    "    dist = [INF] * n\n",
    "    prev = [None] * n\n",
    "\n",
    "    max_flow = 0\n",
    "    min_cost = 0\n",
    "\n",
    "    while True:\n",
    "        dist[source] = 0\n",
    "        hq = [(0, source)]  # Coda prioritaria per l'algoritmo di Dijkstra\n",
    "        while hq:\n",
    "            d, u = heapq.heappop(hq)\n",
    "            if d > dist[u]:\n",
    "                continue\n",
    "            for edge in graph[u]:\n",
    "                if edge.capacity - edge.flow > 0 and dist[edge.end] > dist[u] + edge.cost:\n",
    "                    dist[edge.end] = dist[u] + edge.cost\n",
    "                    prev[edge.end] = edge\n",
    "                    heapq.heappush(hq, (dist[edge.end], edge.end))\n",
    "\n",
    "        if dist[sink] == INF:\n",
    "            break\n",
    "\n",
    "        augmenting_path_flow = INF\n",
    "        node = sink\n",
    "        while node != source:\n",
    "            edge = prev[node]\n",
    "            augmenting_path_flow = min(augmenting_path_flow, edge.capacity - edge.flow)\n",
    "            node = edge.start\n",
    "\n",
    "        max_flow += augmenting_path_flow\n",
    "        min_cost += augmenting_path_flow * dist[sink]\n",
    "\n",
    "        node = sink\n",
    "        while node != source:\n",
    "            edge = prev[node]\n",
    "            edge.flow += augmenting_path_flow\n",
    "            for backward_edge in graph[edge.end]:\n",
    "                if backward_edge.end == edge.start:\n",
    "                    backward_edge.flow -= augmenting_path_flow\n",
    "                    break\n",
    "            node = edge.start\n",
    "\n",
    "    return max_flow, min_cost\n",
    "\n",
    "if __name__ == \"__main__\":\n",
    "    # Esempio di utilizzo\n",
    "    num_nodi = 4\n",
    "    sorgente = 0\n",
    "    pozzo = 3\n",
    "    grafo = [[] for _ in range(num_nodi)]\n",
    "\n",
    "    add_edge(grafo, 0, 1, 2, 1)\n",
    "    add_edge(grafo, 0, 2, 1, 2)\n",
    "    add_edge(grafo, 1, 2, 1, 1)\n",
    "    add_edge(grafo, 1, 3, 2, 3)\n",
    "    add_edge(grafo, 2, 3, 2, 1)\n",
    "\n",
    "    flusso_massimo, costo_minimo = successive_shortest_path(grafo, sorgente, pozzo)\n",
    "    print(f\"Flusso Massimo: {flusso_massimo}\")\n",
    "    print(f\"Costo Minimo: {costo_minimo}\")\n"
   ]
  },
  {
   "cell_type": "markdown",
   "metadata": {},
   "source": [
    "# Conclusioni\n",
    "\n",
    "##### Possiamo notare come partendo da uno stesso grafo i due algoritmi restituiscano un flusso minimo differente."
   ]
  },
  {
   "cell_type": "markdown",
   "metadata": {},
   "source": [
    "##### È possibile che l'algoritmo del cycle cancelling e l'algoritmo Successive Shortest Path (SSP) restituiscano valori diversi per il flusso minimo in un grafo specifico. Questo può essere dovuto a diversi fattori, tra cui la struttura del grafo, i costi associati agli archi e le capacità dei nodi.\n",
    "\n",
    "##### L'algoritmo del cycle cancelling è specificamente progettato per risolvere il problema del flusso minimo in grafi a costo minimo, mentre SSP può essere utilizzato su una gamma più ampia di problemi di flusso. La differenza nei risultati potrebbe essere dovuta a come ciascun algoritmo gestisce determinate configurazioni di grafo o costi negativi.\n",
    "\n",
    "##### Se l'obiettivo è ottenere il flusso minimo in un grafo specifico, è importante considerare quale algoritmo è più adatto per il tuo caso specifico e quali parametri e configurazioni stai utilizzando."
   ]
  },
  {
   "cell_type": "markdown",
   "metadata": {},
   "source": [
    "##### Ecco alcune ragioni per cui potresti ottenere risultati diversi utilizzando CC e SSP sullo stesso grafo:\n",
    "\n",
    "##### 1. Inizializzazione del flusso: L'inizializzazione del flusso iniziale può variare tra le implementazioni di CC e SSP. Un'inizializzazione diversa può portare a flussi diversi.\n",
    "\n",
    "##### 2. Scelta dei cammini: SSP determina il flusso minimo calcolando cammini augmenting successivi, mentre CC si concentra sulla cancellazione di cicli negativi. Le scelte dei cammini possono variare tra i due algoritmi, portando a flussi diversi.\n",
    "\n",
    "##### 3. Cicli negativi: CC si concentra sulla cancellazione dei cicli negativi all'interno del grafo residuo, mentre SSP calcola cammini augmenting successivi. La scoperta di cicli negativi e la loro cancellazione può variare tra le implementazioni.\n",
    "\n",
    "##### 4. Precisione numerica: Alcune implementazioni possono gestire la precisione numerica in modo diverso, il che potrebbe influenzare i risultati finali.\n",
    "\n",
    "##### 5. Condizioni di arresto: Le implementazioni possono avere criteri di arresto diversi per determinare quando il flusso minimo è stato trovato.\n",
    "\n",
    "##### 6. Strutture dati e ottimizzazioni: Le implementazioni possono utilizzare diverse strutture dati o ottimizzazioni, influenzando l'efficienza e i risultati."
   ]
  },
  {
   "cell_type": "code",
   "execution_count": null,
   "metadata": {},
   "outputs": [],
   "source": []
  }
 ],
 "metadata": {
  "kernelspec": {
   "display_name": "Python 3",
   "language": "python",
   "name": "python3"
  },
  "language_info": {
   "codemirror_mode": {
    "name": "ipython",
    "version": 3
   },
   "file_extension": ".py",
   "mimetype": "text/x-python",
   "name": "python",
   "nbconvert_exporter": "python",
   "pygments_lexer": "ipython3",
   "version": "3.10.2"
  },
  "orig_nbformat": 4
 },
 "nbformat": 4,
 "nbformat_minor": 2
}
